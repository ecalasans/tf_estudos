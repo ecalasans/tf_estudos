{
 "nbformat": 4,
 "nbformat_minor": 0,
 "metadata": {
  "kernelspec": {
   "display_name": "Python 3",
   "language": "python",
   "name": "python3"
  },
  "language_info": {
   "codemirror_mode": {
    "name": "ipython",
    "version": 3
   },
   "file_extension": ".py",
   "mimetype": "text/x-python",
   "name": "python",
   "nbconvert_exporter": "python",
   "pygments_lexer": "ipython3",
   "version": "3.7.4"
  },
  "pycharm": {
   "stem_cell": {
    "cell_type": "raw",
    "source": [],
    "metadata": {
     "collapsed": false
    }
   }
  },
  "colab": {
   "name": "keras_estudo.ipynb",
   "provenance": []
  }
 },
 "cells": [
  {
   "cell_type": "markdown",
   "metadata": {
    "collapsed": true,
    "pycharm": {
     "name": "#%% md\n"
    },
    "id": "ryPXfBRNVN5S",
    "colab_type": "text"
   },
   "source": [
    "# Keras #\n",
    "\n"
   ]
  },
  {
   "cell_type": "markdown",
   "metadata": {
    "id": "uVdx_KYXVN5T",
    "colab_type": "text"
   },
   "source": [
    "1.  Keras Backend"
   ]
  },
  {
   "cell_type": "code",
   "metadata": {
    "pycharm": {
     "is_executing": false,
     "name": "#%%\n"
    },
    "id": "9qKLqidJVN5U",
    "colab_type": "code",
    "colab": {
     "base_uri": "https://localhost:8080/",
     "height": 51
    },
    "outputId": "34058b37-7f49-425a-ebf3-0b8b6fb785fe"
   },
   "source": [
    "#  Importação básica do Keras\n",
    "from tensorflow.keras import backend as K\n",
    "import tensorflow as tf\n",
    "\n",
    "const = K.constant([[42, 21], [11, 99]], dtype=tf.float16, shape=[2,2])\n",
    "const.numpy()"
   ],
   "execution_count": 1,
   "outputs": [
    {
     "output_type": "execute_result",
     "data": {
      "text/plain": [
       "array([[42., 21.],\n",
       "       [11., 99.]], dtype=float16)"
      ]
     },
     "metadata": {
      "tags": []
     },
     "execution_count": 1
    }
   ]
  },
  {
   "cell_type": "markdown",
   "metadata": {
    "id": "YtnxxNjUVN5c",
    "colab_type": "text"
   },
   "source": [
    "2.  Keras Sequential Model(MNIST)"
   ]
  },
  {
   "cell_type": "code",
   "metadata": {
    "pycharm": {
     "name": "#%%\n",
     "is_executing": false
    },
    "id": "bNhwf8hrVN5d",
    "colab_type": "code",
    "colab": {}
   },
   "source": [
    "#  Conhecido dataset de números feitos à mão\n",
    "mnist = tf.keras.datasets.mnist\n"
   ],
   "execution_count": 0,
   "outputs": []
  },
  {
   "cell_type": "markdown",
   "metadata": {
    "id": "9bteT9mjVN5h",
    "colab_type": "text"
   },
   "source": [
    "Aqui dividimos o dataset em **conjunto de treino** e **conjunto de teste**"
   ]
  },
  {
   "cell_type": "code",
   "metadata": {
    "pycharm": {
     "name": "#%%\n",
     "is_executing": false
    },
    "id": "nYyk25cpVN5h",
    "colab_type": "code",
    "colab": {}
   },
   "source": [
    "(train_x, train_y), (test_x, test_y) = mnist.load_data()\n"
   ],
   "execution_count": 0,
   "outputs": []
  },
  {
   "cell_type": "markdown",
   "metadata": {
    "collapsed": false,
    "id": "olsi-mZMVN5l",
    "colab_type": "text"
   },
   "source": [
    "Estabelecemos o número de vezes que apresentaremos os dados\n",
    "ao modelo(`epochs`) e o tamanho do bloco de dados(`batch_size`)\n"
   ]
  },
  {
   "cell_type": "code",
   "metadata": {
    "pycharm": {
     "name": "#%%\n",
     "is_executing": false
    },
    "id": "1ifxwvoQVN5m",
    "colab_type": "code",
    "colab": {}
   },
   "source": [
    "epochs = 10\n",
    "batch_size = 32"
   ],
   "execution_count": 0,
   "outputs": []
  },
  {
   "cell_type": "markdown",
   "metadata": {
    "collapsed": false,
    "id": "PXsNzhcIVN5p",
    "colab_type": "text"
   },
   "source": [
    "Normalizamos os dados em `x` para valores entre 0 e 1 e setamos\n",
    "o tipo para float32"
   ]
  },
  {
   "cell_type": "code",
   "metadata": {
    "pycharm": {
     "name": "#%%\n",
     "is_executing": false
    },
    "id": "V1dFuGNKVN5q",
    "colab_type": "code",
    "colab": {}
   },
   "source": [
    "train_x = tf.cast(train_x/255., tf.float32)\n",
    "test_x = tf.cast(test_x/255., tf.float32)\n"
   ],
   "execution_count": 0,
   "outputs": []
  },
  {
   "cell_type": "markdown",
   "metadata": {
    "collapsed": false,
    "id": "PRF-__6vVN5t",
    "colab_type": "text"
   },
   "source": [
    "Setamos os tipos em `y ` para int64"
   ]
  },
  {
   "cell_type": "code",
   "metadata": {
    "pycharm": {
     "name": "#%%\n",
     "is_executing": false
    },
    "id": "RCPnZLeiVN5u",
    "colab_type": "code",
    "colab": {}
   },
   "source": [
    "train_y = tf.cast(train_y, tf.int64)\n",
    "test_y = tf.cast(test_y, tf.int64)\n",
    "\n"
   ],
   "execution_count": 0,
   "outputs": []
  },
  {
   "cell_type": "markdown",
   "metadata": {
    "collapsed": false,
    "id": "AXtPLSGDVN5y",
    "colab_type": "text"
   },
   "source": [
    "Modelo propriamente dito(maiores detalhes consultar livro na página\n",
    "82 no Adobe Reader"
   ]
  },
  {
   "cell_type": "code",
   "metadata": {
    "pycharm": {
     "name": "#%%\n",
     "is_executing": false
    },
    "id": "VYy33-KnVN5z",
    "colab_type": "code",
    "colab": {}
   },
   "source": [
    "model1 = tf.keras.Sequential([\n",
    "    tf.keras.layers.Flatten(),\n",
    "    tf.keras.layers.Dense(512, activation=tf.nn.relu),\n",
    "    tf.keras.layers.Dropout(0.2),\n",
    "    tf.keras.layers.Dense(10, activation=tf.nn.softmax)\n",
    "])\n"
   ],
   "execution_count": 0,
   "outputs": []
  },
  {
   "cell_type": "markdown",
   "metadata": {
    "collapsed": false,
    "id": "7-n2m9lsVN52",
    "colab_type": "text"
   },
   "source": [
    "Selecionar o otimizador da função de custo e compilar o modelo"
   ]
  },
  {
   "cell_type": "code",
   "metadata": {
    "pycharm": {
     "name": "#%%\n",
     "is_executing": false
    },
    "id": "yiJcjpEeVN53",
    "colab_type": "code",
    "colab": {}
   },
   "source": [
    "optimiser = tf.keras.optimizers.Adam()\n",
    "model1.compile(optimizer=optimiser, \n",
    "               loss='sparse_categorical_crossentropy',\n",
    "               metrics=['accuracy'])"
   ],
   "execution_count": 0,
   "outputs": []
  },
  {
   "cell_type": "markdown",
   "metadata": {
    "collapsed": false,
    "id": "ntLzk7VVVN57",
    "colab_type": "text"
   },
   "source": [
    "Treinar o modelo"
   ]
  },
  {
   "cell_type": "code",
   "metadata": {
    "pycharm": {
     "name": "#%%\n",
     "is_executing": false
    },
    "id": "IfBDFE33VN57",
    "colab_type": "code",
    "colab": {
     "base_uri": "https://localhost:8080/",
     "height": 629
    },
    "outputId": "65cf1429-43f8-4626-86da-17db672decab"
   },
   "source": [
    "model1.fit(x=train_x, y=train_y, batch_size=batch_size, epochs=epochs)\n",
    "model1.summary()"
   ],
   "execution_count": 19,
   "outputs": [
    {
     "output_type": "stream",
     "text": [
      "Epoch 1/10\n",
      "1875/1875 [==============================] - 7s 4ms/step - loss: 0.0207 - accuracy: 0.9929\n",
      "Epoch 2/10\n",
      "1875/1875 [==============================] - 7s 4ms/step - loss: 0.0192 - accuracy: 0.9935\n",
      "Epoch 3/10\n",
      "1875/1875 [==============================] - 7s 4ms/step - loss: 0.0187 - accuracy: 0.9938\n",
      "Epoch 4/10\n",
      "1875/1875 [==============================] - 7s 4ms/step - loss: 0.0179 - accuracy: 0.9938\n",
      "Epoch 5/10\n",
      "1875/1875 [==============================] - 7s 4ms/step - loss: 0.0154 - accuracy: 0.9947\n",
      "Epoch 6/10\n",
      "1875/1875 [==============================] - 7s 4ms/step - loss: 0.0156 - accuracy: 0.9948\n",
      "Epoch 7/10\n",
      "1875/1875 [==============================] - 7s 4ms/step - loss: 0.0155 - accuracy: 0.9948\n",
      "Epoch 8/10\n",
      "1875/1875 [==============================] - 6s 3ms/step - loss: 0.0149 - accuracy: 0.9951\n",
      "Epoch 9/10\n",
      "1875/1875 [==============================] - 6s 3ms/step - loss: 0.0149 - accuracy: 0.9950\n",
      "Epoch 10/10\n",
      "1875/1875 [==============================] - 6s 3ms/step - loss: 0.0117 - accuracy: 0.9959\n",
      "Model: \"sequential_1\"\n",
      "_________________________________________________________________\n",
      "Layer (type)                 Output Shape              Param #   \n",
      "=================================================================\n",
      "flatten_1 (Flatten)          multiple                  0         \n",
      "_________________________________________________________________\n",
      "dense_2 (Dense)              multiple                  401920    \n",
      "_________________________________________________________________\n",
      "dropout_1 (Dropout)          multiple                  0         \n",
      "_________________________________________________________________\n",
      "dense_3 (Dense)              multiple                  5130      \n",
      "=================================================================\n",
      "Total params: 407,050\n",
      "Trainable params: 407,050\n",
      "Non-trainable params: 0\n",
      "_________________________________________________________________\n"
     ],
     "name": "stdout"
    }
   ]
  },
  {
   "cell_type": "markdown",
   "metadata": {
    "collapsed": false,
    "id": "Um709fk4VN5_",
    "colab_type": "text"
   },
   "source": [
    "Avaliar o modelo"
   ]
  },
  {
   "cell_type": "code",
   "metadata": {
    "pycharm": {
     "name": "#%%\n",
     "is_executing": false
    },
    "id": "6pLt_t-NVN6B",
    "colab_type": "code",
    "colab": {
     "base_uri": "https://localhost:8080/",
     "height": 51
    },
    "outputId": "573d30d0-fe9d-4c2f-8bc3-0a21d2004844"
   },
   "source": [
    "model1.evaluate(test_x, test_y)\n"
   ],
   "execution_count": 20,
   "outputs": [
    {
     "output_type": "stream",
     "text": [
      "313/313 [==============================] - 1s 2ms/step - loss: 0.1004 - accuracy: 0.9828\n"
     ],
     "name": "stdout"
    },
    {
     "output_type": "execute_result",
     "data": {
      "text/plain": [
       "[0.10037098079919815, 0.9828000068664551]"
      ]
     },
     "metadata": {
      "tags": []
     },
     "execution_count": 20
    }
   ]
  },
  {
   "cell_type": "markdown",
   "source": [
    "## API Funcional"
   ],
   "metadata": {
    "collapsed": false
   }
  },
  {
   "cell_type": "markdown",
   "source": [
    "Mesmo modelo anterior mas agora usando a API Funcional"
   ],
   "metadata": {
    "collapsed": false
   }
  },
  {
   "cell_type": "code",
   "execution_count": null,
   "outputs": [],
   "source": [
    "inputs = tf.keras.Input(shape=(28,28))\n",
    "x = tf.keras.layers.Flatten()(inputs)\n",
    "x = tf.keras.layers.Dense(512, activation='relu', name='d1')(x)\n",
    "x = tf.keras.layers.Dropout(0.2)(x)\n",
    "predictions = tf.keras.layers.Dense(10, activation=tf.nn.softmax, name='d2')(x)\n",
    "\n",
    "model3 = tf.keras.Model(inputs=inputs, outputs=predictions)\n",
    "\n",
    "model3.compile(optimizer=optimiser, loss='sparse_categorical_crossentropy',\n",
    "               metrics=['accuracy'])\n",
    "\n",
    "model3.fit(train_x, train_y, batch_size=32, epochs=epochs)\n",
    "\n",
    "model3.evaluate(test_x, test_y)\n",
    "model3.summary()"
   ],
   "metadata": {
    "collapsed": false,
    "pycharm": {
     "name": "#%%\n"
    }
   }
  },
  {
   "cell_type": "markdown",
   "metadata": {
    "id": "FmlknMPJV_O9",
    "colab_type": "text"
   },
   "source": [
    "inputs = tf.keras.Input(shape=(28,28))\n",
    "x = tf.keras.layers.Flatten()(inputs)\n",
    "x = tf.keras.layers.Dense(512, activation='relu', name='d1')(x)\n",
    "x = tf.keras.layers.Dropout(0.2)(x)\n",
    "predictions = tf.keras.layers.Dense(10, activation=tf.nn.softmax, name='d2')(x)\n",
    "\n",
    "model3 = tf.keras.Model(inputs=inputs, outputs=predictions)\n",
    "\n",
    "model3.compile(optimizer=optimiser, loss='sparse_categorical_crossentropy',\n",
    "               metrics=['accuracy'])\n",
    "\n",
    "model3.fit(train_x, train_y, batch_size=32, epochs=epochs)\n",
    "\n",
    "model3.evaluate(test_x, test_y)\n",
    "model3.summary()"
   ]
  },
  {
   "cell_type": "markdown",
   "metadata": {
    "id": "3gGueoPvWtFf",
    "colab_type": "text"
   },
   "source": [
    "Mesmo modelo anterior mas agora usando a API Funcional"
   ]
  },
  {
   "cell_type": "code",
   "metadata": {
    "id": "Fy43T6WfWxOl",
    "colab_type": "code",
    "colab": {
     "base_uri": "https://localhost:8080/",
     "height": 680
    },
    "outputId": "9de5d68d-e2e4-4941-81d4-898115daf108"
   },
   "source": [
    "inputs = tf.keras.Input(shape=(28,28))\n",
    "x = tf.keras.layers.Flatten()(inputs)\n",
    "x = tf.keras.layers.Dense(512, activation='relu', name='d1')(x)\n",
    "x = tf.keras.layers.Dropout(0.2)(x)\n",
    "predictions = tf.keras.layers.Dense(10, activation=tf.nn.softmax, name='d2')(x)\n",
    "\n",
    "model3 = tf.keras.Model(inputs=inputs, outputs=predictions)\n",
    "\n",
    "model3.compile(optimizer=optimiser, loss='sparse_categorical_crossentropy',\n",
    "               metrics=['accuracy'])\n",
    "\n",
    "model3.fit(train_x, train_y, batch_size=32, epochs=epochs)\n",
    "\n",
    "model3.evaluate(test_x, test_y)\n",
    "model3.summary()"
   ],
   "execution_count": 21,
   "outputs": [
    {
     "output_type": "stream",
     "text": [
      "Epoch 1/10\n",
      "1875/1875 [==============================] - 7s 4ms/step - loss: 0.1839 - accuracy: 0.9448\n",
      "Epoch 2/10\n",
      "1875/1875 [==============================] - 7s 4ms/step - loss: 0.0850 - accuracy: 0.9735\n",
      "Epoch 3/10\n",
      "1875/1875 [==============================] - 7s 4ms/step - loss: 0.0635 - accuracy: 0.9807\n",
      "Epoch 4/10\n",
      "1875/1875 [==============================] - 7s 4ms/step - loss: 0.0496 - accuracy: 0.9846\n",
      "Epoch 5/10\n",
      "1875/1875 [==============================] - 7s 4ms/step - loss: 0.0407 - accuracy: 0.9866\n",
      "Epoch 6/10\n",
      "1875/1875 [==============================] - 7s 4ms/step - loss: 0.0328 - accuracy: 0.9892\n",
      "Epoch 7/10\n",
      "1875/1875 [==============================] - 7s 4ms/step - loss: 0.0296 - accuracy: 0.9904\n",
      "Epoch 8/10\n",
      "1875/1875 [==============================] - 7s 4ms/step - loss: 0.0250 - accuracy: 0.9915\n",
      "Epoch 9/10\n",
      "1875/1875 [==============================] - 7s 4ms/step - loss: 0.0225 - accuracy: 0.9922\n",
      "Epoch 10/10\n",
      "1875/1875 [==============================] - 7s 4ms/step - loss: 0.0204 - accuracy: 0.9929\n",
      "313/313 [==============================] - 1s 2ms/step - loss: 0.0643 - accuracy: 0.9826\n",
      "Model: \"model\"\n",
      "_________________________________________________________________\n",
      "Layer (type)                 Output Shape              Param #   \n",
      "=================================================================\n",
      "input_1 (InputLayer)         [(None, 28, 28)]          0         \n",
      "_________________________________________________________________\n",
      "flatten_2 (Flatten)          (None, 784)               0         \n",
      "_________________________________________________________________\n",
      "d1 (Dense)                   (None, 512)               401920    \n",
      "_________________________________________________________________\n",
      "dropout_2 (Dropout)          (None, 512)               0         \n",
      "_________________________________________________________________\n",
      "d2 (Dense)                   (None, 10)                5130      \n",
      "=================================================================\n",
      "Total params: 407,050\n",
      "Trainable params: 407,050\n",
      "Non-trainable params: 0\n",
      "_________________________________________________________________\n"
     ],
     "name": "stdout"
    }
   ]
  }
 ]
}