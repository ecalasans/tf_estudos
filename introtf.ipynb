{
 "cells": [
  {
   "cell_type": "code",
   "execution_count": 22,
   "metadata": {
    "collapsed": true,
    "pycharm": {
     "is_executing": false
    }
   },
   "outputs": [],
   "source": [
    "import tensorflow as tf"
   ]
  },
  {
   "cell_type": "markdown",
   "source": [
    "Verificando a versão e outras características do TensorFlow\n"
   ],
   "metadata": {
    "collapsed": false
   }
  },
  {
   "cell_type": "code",
   "execution_count": 23,
   "outputs": [
    {
     "name": "stdout",
     "text": [
      "Versão:  2.1.0\n",
      "Eager Execution:  True\n",
      "Versão do Keras:  2.2.4-tf\n"
     ],
     "output_type": "stream"
    }
   ],
   "source": [
    "print('Versão:  {}'.format(tf.__version__))\n",
    "print('Eager Execution:  {}'.format(tf.executing_eagerly()))\n",
    "print('Versão do Keras:  {}'.format(tf.keras.__version__))"
   ],
   "metadata": {
    "collapsed": false,
    "pycharm": {
     "name": "#%%\n",
     "is_executing": false
    }
   }
  },
  {
   "cell_type": "markdown",
   "source": [
    "Verificando se o TensorFlow está rodando numa CPU ou numa GPU"
   ],
   "metadata": {
    "collapsed": false
   }
  },
  {
   "cell_type": "code",
   "execution_count": 24,
   "outputs": [
    {
     "name": "stdout",
     "text": [
      "Rodando na CPU\n"
     ],
     "output_type": "stream"
    }
   ],
   "source": [
    "var = tf.Variable([3,3])\n",
    "\n",
    "if tf.config.list_physical_devices('GPU'):\n",
    "    print(\"Rodando na GPU\")\n",
    "    print('GPU #0?')\n",
    "    print(var.device.endswith('GPU:0'))\n",
    "else:\n",
    "    print('Rodando na CPU')"
   ],
   "metadata": {
    "collapsed": false,
    "pycharm": {
     "name": "#%%\n",
     "is_executing": false
    }
   }
  },
  {
   "cell_type": "markdown",
   "source": [
    "Declaração de variáveis no TensorFlow"
   ],
   "metadata": {
    "collapsed": false
   }
  },
  {
   "cell_type": "code",
   "execution_count": 25,
   "outputs": [
    {
     "data": {
      "text/plain": "(24,\n <tf.Variable 'Variable:0' shape=() dtype=int32, numpy=42>,\n <tf.Variable 'Variable:0' shape=(2, 2, 3) dtype=int32, numpy=\n array([[[ 1,  2,  3],\n         [ 4,  5,  6]],\n \n        [[ 7,  8,  9],\n         [10, 11, 12]]], dtype=int32)>)"
     },
     "metadata": {},
     "output_type": "execute_result",
     "execution_count": 25
    }
   ],
   "source": [
    "t0 = 24\n",
    "t1 = tf.Variable(42)\n",
    "t2 = tf.Variable([[[1,2,3], [4,5,6]],[[7,8,9], [10,11,12]]])\n",
    "\n",
    "t0, t1, t2"
   ],
   "metadata": {
    "collapsed": false,
    "pycharm": {
     "name": "#%%\n",
     "is_executing": false
    }
   }
  },
  {
   "cell_type": "markdown",
   "source": [
    "Declaração de Constantes"
   ],
   "metadata": {
    "collapsed": false
   }
  },
  {
   "cell_type": "code",
   "execution_count": 26,
   "outputs": [
    {
     "data": {
      "text/plain": "45"
     },
     "metadata": {},
     "output_type": "execute_result",
     "execution_count": 26
    }
   ],
   "source": [
    "c1 = tf.constant(45)\n",
    "c1\n",
    "c1.numpy()"
   ],
   "metadata": {
    "collapsed": false,
    "pycharm": {
     "name": "#%%\n",
     "is_executing": false
    }
   }
  },
  {
   "cell_type": "markdown",
   "source": [
    "Tamanho de um tensor"
   ],
   "metadata": {
    "collapsed": false
   }
  },
  {
   "cell_type": "code",
   "execution_count": 27,
   "outputs": [
    {
     "name": "stdout",
     "text": [
      "(2, 2, 3)\n",
      "(2, 6)\n",
      "tf.Tensor([[ 1  2  3  4  5  6  7  8  9 10 11 12]], shape=(1, 12), dtype=int32)\n"
     ],
     "output_type": "stream"
    }
   ],
   "source": [
    "print(t2.shape)\n",
    "\n",
    "#Redimensionando um tesnor\n",
    "r1 = tf.reshape(t2, [2,6])\n",
    "print(r1.shape)\n",
    "r2 = tf.reshape(t2, [1, 12])\n",
    "print(r2)"
   ],
   "metadata": {
    "collapsed": false,
    "pycharm": {
     "name": "#%%\n",
     "is_executing": false
    }
   }
  },
  {
   "cell_type": "markdown",
   "source": [
    "Dimensões(rank) de um tensor"
   ],
   "metadata": {
    "collapsed": false
   }
  },
  {
   "cell_type": "code",
   "execution_count": 28,
   "outputs": [
    {
     "name": "stdout",
     "text": [
      "tf.Tensor(3, shape=(), dtype=int32)\n"
     ],
     "output_type": "stream"
    }
   ],
   "source": [
    "print(tf.rank(t2))"
   ],
   "metadata": {
    "collapsed": false,
    "pycharm": {
     "name": "#%%\n",
     "is_executing": false
    }
   }
  },
  {
   "cell_type": "markdown",
   "source": [
    "Cast de um tensor em uma variável Numpy/Python"
   ],
   "metadata": {
    "collapsed": false
   }
  },
  {
   "cell_type": "code",
   "execution_count": 29,
   "outputs": [
    {
     "name": "stdout",
     "text": [
      "[[[ 1  2  3]\n",
      "  [ 4  5  6]]\n",
      "\n",
      " [[ 7  8  9]\n",
      "  [10 11 12]]]\n",
      "2\n"
     ],
     "output_type": "stream"
    }
   ],
   "source": [
    "print(t2.numpy())\n",
    "\n",
    "print(t2[0,0,1].numpy())"
   ],
   "metadata": {
    "collapsed": false,
    "pycharm": {
     "name": "#%%\n",
     "is_executing": false
    }
   }
  },
  {
   "cell_type": "markdown",
   "source": [
    "Número de elementos de um tensor\n",
    "\n"
   ],
   "metadata": {
    "collapsed": false
   }
  },
  {
   "cell_type": "code",
   "execution_count": 30,
   "outputs": [
    {
     "data": {
      "text/plain": "12"
     },
     "metadata": {},
     "output_type": "execute_result",
     "execution_count": 30
    }
   ],
   "source": [
    "n = tf.size(t2).numpy()\n",
    "n"
   ],
   "metadata": {
    "collapsed": false,
    "pycharm": {
     "name": "#%%\n",
     "is_executing": false
    }
   }
  },
  {
   "cell_type": "markdown",
   "source": [
    "Operações elemento a elemento em um tensor"
   ],
   "metadata": {
    "collapsed": false
   }
  },
  {
   "cell_type": "code",
   "execution_count": 31,
   "outputs": [
    {
     "name": "stdout",
     "text": [
      "[[[ 2  4  6]\n",
      "  [ 8 10 12]]\n",
      "\n",
      " [[14 16 18]\n",
      "  [20 22 24]]]\n",
      "[[[0 0 0]\n",
      "  [0 0 0]]\n",
      "\n",
      " [[0 0 0]\n",
      "  [0 0 0]]]\n"
     ],
     "output_type": "stream"
    }
   ],
   "source": [
    "adicao = (t2 + t2).numpy()\n",
    "print(adicao)\n",
    "\n",
    "subtracao = (t2 - t2).numpy()\n",
    "print(subtracao)"
   ],
   "metadata": {
    "collapsed": false,
    "pycharm": {
     "name": "#%%\n",
     "is_executing": false
    }
   }
  },
  {
   "cell_type": "markdown",
   "source": [
    "Broadcasting\n",
    "\n",
    "*No caso abaixo, o escalar é expandido\n",
    " em um tensor de igual tamanho e é realziada a \n",
    " multiplicação elemento a elemento*"
   ],
   "metadata": {
    "collapsed": false
   }
  },
  {
   "cell_type": "code",
   "execution_count": 32,
   "outputs": [
    {
     "name": "stdout",
     "text": [
      "[[[ 4  8 12]\n",
      "  [16 20 24]]\n",
      "\n",
      " [[28 32 36]\n",
      "  [40 44 48]]]\n"
     ],
     "output_type": "stream"
    }
   ],
   "source": [
    "mult_escalar = (t2 * 4).numpy()\n",
    "print(mult_escalar)"
   ],
   "metadata": {
    "collapsed": false,
    "pycharm": {
     "name": "#%%\n",
     "is_executing": false
    }
   }
  },
  {
   "cell_type": "markdown",
   "source": [
    "Multiplicação de matrizes em TensorFlow"
   ],
   "metadata": {
    "collapsed": false
   }
  },
  {
   "cell_type": "code",
   "execution_count": 36,
   "outputs": [
    {
     "name": "stdout",
     "text": [
      "[[1 2 3]\n",
      " [4 5 6]]\n",
      "[[ 7  8  9]\n",
      " [10 11 12]]\n",
      "[[ 7 10]\n",
      " [ 8 11]\n",
      " [ 9 12]]\n",
      "[[ 50  68]\n",
      " [122 167]]\n"
     ],
     "output_type": "stream"
    }
   ],
   "source": [
    "u = t2[0]\n",
    "print(u.numpy())\n",
    "\n",
    "v = t2[1]\n",
    "print(v.numpy())\n",
    "\n",
    "#Transpondo v para ajustar dimensionalidade da multiplicação\n",
    "v = tf.transpose(v)\n",
    "print(v.numpy())\n",
    "\n",
    "mult_mat = tf.matmul(u, v).numpy()\n",
    "print(mult_mat)"
   ],
   "metadata": {
    "collapsed": false,
    "pycharm": {
     "name": "#%%\n",
     "is_executing": false
    }
   }
  },
  {
   "cell_type": "markdown",
   "source": [
    "*Casting* tensores"
   ],
   "metadata": {
    "collapsed": false
   }
  },
  {
   "cell_type": "code",
   "execution_count": 37,
   "outputs": [
    {
     "name": "stdout",
     "text": [
      "[[[ 1.  2.  3.]\n",
      "  [ 4.  5.  6.]]\n",
      "\n",
      " [[ 7.  8.  9.]\n",
      "  [10. 11. 12.]]]\n"
     ],
     "output_type": "stream"
    }
   ],
   "source": [
    "casted = tf.cast(t2, tf.float32)\n",
    "print(casted.numpy())"
   ],
   "metadata": {
    "collapsed": false,
    "pycharm": {
     "name": "#%%\n",
     "is_executing": false
    }
   }
  },
  {
   "cell_type": "markdown",
   "source": [
    "Tensores com dimensões irregulares(ragged tensors)"
   ],
   "metadata": {
    "collapsed": false
   }
  },
  {
   "cell_type": "code",
   "execution_count": 42,
   "outputs": [
    {
     "name": "stdout",
     "text": [
      "<tf.RaggedTensor [[5, 2, 6, 1], [], [4, 10, 7], [8], [6, 7]]>\n",
      "tf.Tensor([5 2 6 1], shape=(4,), dtype=int32)\n",
      "tf.Tensor([], shape=(0,), dtype=int32)\n"
     ],
     "output_type": "stream"
    }
   ],
   "source": [
    "ragged =tf.ragged.constant([[5, 2, 6, 1], [], [4, 10, 7], [8], [6,7]])\n",
    "print(ragged)\n",
    "print(ragged[0, :])\n",
    "print(ragged[1])\n"
   ],
   "metadata": {
    "collapsed": false,
    "pycharm": {
     "name": "#%%\n",
     "is_executing": false
    }
   }
  }
 ],
 "metadata": {
  "kernelspec": {
   "display_name": "Python 3",
   "language": "python",
   "name": "python3"
  },
  "language_info": {
   "codemirror_mode": {
    "name": "ipython",
    "version": 2
   },
   "file_extension": ".py",
   "mimetype": "text/x-python",
   "name": "python",
   "nbconvert_exporter": "python",
   "pygments_lexer": "ipython2",
   "version": "2.7.6"
  },
  "pycharm": {
   "stem_cell": {
    "cell_type": "raw",
    "source": [],
    "metadata": {
     "collapsed": false
    }
   }
  }
 },
 "nbformat": 4,
 "nbformat_minor": 0
}