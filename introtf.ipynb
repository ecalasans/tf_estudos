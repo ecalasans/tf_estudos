{
 "cells": [
  {
   "cell_type": "code",
   "execution_count": 1,
   "metadata": {
    "collapsed": true,
    "pycharm": {
     "is_executing": false
    }
   },
   "outputs": [],
   "source": [
    "import tensorflow as tf"
   ]
  },
  {
   "cell_type": "markdown",
   "source": [
    "Verificando a versão e outras características do TensorFlow\n"
   ],
   "metadata": {
    "collapsed": false
   }
  },
  {
   "cell_type": "code",
   "execution_count": 3,
   "outputs": [
    {
     "name": "stdout",
     "text": [
      "Versão:  2.1.0\n",
      "Eager Execution:  True\n",
      "Versão do Keras:  2.2.4-tf\n"
     ],
     "output_type": "stream"
    }
   ],
   "source": [
    "print('Versão:  {}'.format(tf.__version__))\n",
    "print('Eager Execution:  {}'.format(tf.executing_eagerly()))\n",
    "print('Versão do Keras:  {}'.format(tf.keras.__version__))"
   ],
   "metadata": {
    "collapsed": false,
    "pycharm": {
     "name": "#%%\n",
     "is_executing": false
    }
   }
  },
  {
   "cell_type": "markdown",
   "source": [
    "Verificando se o TensorFlow está rodando numa CPU ou numa GPU"
   ],
   "metadata": {
    "collapsed": false
   }
  },
  {
   "cell_type": "code",
   "execution_count": 5,
   "outputs": [
    {
     "name": "stdout",
     "text": [
      "Rodando na CPU\n"
     ],
     "output_type": "stream"
    }
   ],
   "source": [
    "var = tf.Variable([3,3])\n",
    "\n",
    "if tf.config.list_physical_devices('GPU'):\n",
    "    print(\"Rodando na GPU\")\n",
    "    print('GPU #0?')\n",
    "    print(var.device.endswith('GPU:0'))\n",
    "else:\n",
    "    print('Rodando na CPU')"
   ],
   "metadata": {
    "collapsed": false,
    "pycharm": {
     "name": "#%%\n",
     "is_executing": false
    }
   }
  },
  {
   "cell_type": "markdown",
   "source": [
    "Declaração de variáveis no TensorFlow"
   ],
   "metadata": {
    "collapsed": false
   }
  },
  {
   "cell_type": "code",
   "execution_count": 9,
   "outputs": [
    {
     "data": {
      "text/plain": "(24,\n <tf.Variable 'Variable:0' shape=() dtype=int32, numpy=42>,\n <tf.Variable 'Variable:0' shape=(2, 2, 3) dtype=int32, numpy=\n array([[[ 1,  2,  3],\n         [ 4,  5,  6]],\n \n        [[ 7,  8,  9],\n         [10, 11, 12]]], dtype=int32)>)"
     },
     "metadata": {},
     "output_type": "execute_result",
     "execution_count": 9
    }
   ],
   "source": [
    "t0 = 24\n",
    "t1 = tf.Variable(42)\n",
    "t2 = tf.Variable([[[1,2,3], [4,5,6]],[[7,8,9], [10,11,12]]])\n",
    "\n",
    "t0, t1, t2"
   ],
   "metadata": {
    "collapsed": false,
    "pycharm": {
     "name": "#%%\n",
     "is_executing": false
    }
   }
  },
  {
   "cell_type": "markdown",
   "source": [
    "Declaração de Constantes"
   ],
   "metadata": {
    "collapsed": false
   }
  },
  {
   "cell_type": "code",
   "execution_count": 12,
   "outputs": [
    {
     "data": {
      "text/plain": "45"
     },
     "metadata": {},
     "output_type": "execute_result",
     "execution_count": 12
    }
   ],
   "source": [
    "c1 = tf.constant(45)\n",
    "c1\n",
    "c1.numpy()"
   ],
   "metadata": {
    "collapsed": false,
    "pycharm": {
     "name": "#%%\n",
     "is_executing": false
    }
   }
  }
 ],
 "metadata": {
  "kernelspec": {
   "display_name": "Python 3",
   "language": "python",
   "name": "python3"
  },
  "language_info": {
   "codemirror_mode": {
    "name": "ipython",
    "version": 2
   },
   "file_extension": ".py",
   "mimetype": "text/x-python",
   "name": "python",
   "nbconvert_exporter": "python",
   "pygments_lexer": "ipython2",
   "version": "2.7.6"
  },
  "pycharm": {
   "stem_cell": {
    "cell_type": "raw",
    "source": [],
    "metadata": {
     "collapsed": false
    }
   }
  }
 },
 "nbformat": 4,
 "nbformat_minor": 0
}