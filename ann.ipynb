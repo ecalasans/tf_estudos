{
 "cells": [
  {
   "cell_type": "markdown",
   "metadata": {
    "collapsed": true,
    "pycharm": {
     "name": "#%% md\n"
    }
   },
   "source": [
    "# ANN Technologies Using TensorFlow 2 #\n",
    "\n",
    "The canonical way to present data to a TensorFlow ANN, as recommended\n",
    "by Google, is via a data pipeline composed of a `tf.data.Dataset` object and a\n",
    "tf.data.Iterator method. A `tf.data.Dataset` object consists of a sequence of\n",
    "elements in which each element contains one or more tensor objects. The\n",
    "`tf.data.Iterator` is a method used to loop over a dataset so that successive\n",
    "individual elements in it may be accessed.\n"
   ]
  },
  {
   "cell_type": "markdown",
   "source": [
    "Usando `NumPy` arrays com datasets"
   ],
   "metadata": {
    "collapsed": false,
    "pycharm": {
     "name": "#%% md\n"
    }
   }
  },
  {
   "cell_type": "code",
   "execution_count": 9,
   "outputs": [
    {
     "name": "stdout",
     "text": [
      "<TensorSliceDataset shapes: (), types: tf.int64>\n",
      "<tensorflow.python.data.ops.iterator_ops.OwnedIterator object at 0x7fb48a485c50>\n",
      "0\n",
      "1\n",
      "2\n",
      "3\n",
      "4\n",
      "5\n",
      "6\n",
      "7\n",
      "8\n",
      "9\n",
      "10\n"
     ],
     "output_type": "stream"
    }
   ],
   "source": [
    "import tensorflow as tf\n",
    "import numpy as np\n",
    "\n",
    "num_items = 11\n",
    "num_list1 = np.arange(num_items)\n",
    "num_list2 = np.arange(num_items, num_items**2)\n",
    "\n",
    "# Criando o dataset\n",
    "num_list1_dataset = tf.data.Dataset.from_tensor_slices(num_list1)\n",
    "\n",
    "print(num_list1_dataset)\n",
    "\n",
    "# Criando o iterador\n",
    "iterator = tf.compat.v1.data.make_one_shot_iterator(num_list1_dataset)\n",
    "print(iterator)\n",
    "\n",
    "# Utilizando o iterador para mostrar o conteúdo do dataset\n",
    "for item in num_list1_dataset:\n",
    "    num = iterator.get_next().numpy()\n",
    "    print(num)\n",
    "    \n",
    "# Também é possível acessar os dados em batches\n",
    "num_list2_dataset\n"
   ],
   "metadata": {
    "collapsed": false,
    "pycharm": {
     "name": "#%%\n",
     "is_executing": false
    }
   }
  }
 ],
 "metadata": {
  "kernelspec": {
   "display_name": "Python 3",
   "language": "python",
   "name": "python3"
  },
  "language_info": {
   "codemirror_mode": {
    "name": "ipython",
    "version": 2
   },
   "file_extension": ".py",
   "mimetype": "text/x-python",
   "name": "python",
   "nbconvert_exporter": "python",
   "pygments_lexer": "ipython2",
   "version": "2.7.6"
  },
  "pycharm": {
   "stem_cell": {
    "cell_type": "raw",
    "source": [],
    "metadata": {
     "collapsed": false
    }
   }
  }
 },
 "nbformat": 4,
 "nbformat_minor": 0
}