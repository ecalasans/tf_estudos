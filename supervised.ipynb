{
 "cells": [
  {
   "cell_type": "markdown",
   "metadata": {
    "collapsed": true,
    "pycharm": {
     "name": "#%% md\n"
    }
   },
   "source": [
    "# Supervised Machine Learning Using TensorFlow 2#"
   ]
  },
  {
   "cell_type": "markdown",
   "metadata": {},
   "source": [
    "## Regressão Linear ##"
   ]
  },
  {
   "cell_type": "code",
   "execution_count": 5,
   "metadata": {
    "pycharm": {
     "name": "#%%\n"
    }
   },
   "outputs": [],
   "source": [
    "import tensorflow as tf\n",
    "import numpy as np\n",
    "import matplotlib.pyplot as plt"
   ]
  },
  {
   "cell_type": "markdown",
   "metadata": {
    "pycharm": {
     "name": "#%% md\n"
    }
   },
   "source": [
    "Inicializando as constantes"
   ]
  },
  {
   "cell_type": "code",
   "execution_count": 6,
   "metadata": {
    "pycharm": {
     "name": "#%%\n"
    }
   },
   "outputs": [],
   "source": [
    "n_examples = 1000 # conjunto de treinamento\n",
    "training_steps = 1000 # quantidade de vezes que a rede será treinada\n",
    "display_step = 10 # a cada múltiplo de 10 mostramos a função custo(loss)\n",
    "learning_rate = 0.01 # taxa de aprendizagem\n",
    "m, c = 6, -5 # gradiente e y-intercept da linha"
   ]
  },
  {
   "cell_type": "markdown",
   "metadata": {},
   "source": [
    "Conjunto de treino"
   ]
  },
  {
   "cell_type": "code",
   "execution_count": 7,
   "metadata": {
    "pycharm": {
     "name": "#%%\n"
    }
   },
   "outputs": [],
   "source": [
    "def train_data(n, m, c):\n",
    "    x = tf.random.normal([n])\n",
    "    noise = tf.random.normal([n])\n",
    "\n",
    "    y = m*x + c + noise\n",
    "\n",
    "    return x, y"
   ]
  },
  {
   "cell_type": "markdown",
   "metadata": {},
   "source": [
    "Cálculo de *prediction*"
   ]
  },
  {
   "cell_type": "code",
   "execution_count": 8,
   "metadata": {
    "pycharm": {
     "name": "#%%\n"
    }
   },
   "outputs": [],
   "source": [
    "def prediction(x, weight, bias):\n",
    "    return x*weight + bias"
   ]
  },
  {
   "cell_type": "markdown",
   "metadata": {},
   "source": [
    "Função Custo(*loss*)\n",
    "\n"
   ]
  },
  {
   "cell_type": "code",
   "execution_count": 9,
   "metadata": {
    "pycharm": {
     "name": "#%%\n"
    }
   },
   "outputs": [],
   "source": [
    "def loss(x, y, weights, biases):\n",
    "    error = prediction(x, weights, biases) - y\n",
    "    squared_error = tf.square(error)\n",
    "\n",
    "    return tf.reduce_mean(input_tensor=squared_error)"
   ]
  },
  {
   "cell_type": "markdown",
   "metadata": {},
   "source": [
    "Gradiente descendente do erro"
   ]
  },
  {
   "cell_type": "code",
   "execution_count": 10,
   "metadata": {
    "pycharm": {
     "name": "#%%\n"
    }
   },
   "outputs": [],
   "source": [
    "def grad(x, y, weights, biases):\n",
    "    with tf.GradientTape() as tape:\n",
    "        loss_ = loss(x, y, weights, biases)\n",
    "\n",
    "    return tape.gradient(loss_, [weights, biases])"
   ]
  },
  {
   "cell_type": "markdown",
   "metadata": {},
   "source": [
    "Plot de *x* e *y*"
   ]
  },
  {
   "cell_type": "code",
   "execution_count": 12,
   "outputs": [
    {
     "name": "stdout",
     "output_type": "stream",
     "text": [
      "loss inicial: 73.607\n"
     ]
    },
    {
     "data": {
      "text/plain": "<Figure size 432x288 with 1 Axes>",
      "image/png": "[encoded data removed]"
     },
     "metadata": {
      "needs_background": "light"
     },
     "output_type": "display_data"
    }
   ],
   "source": [
    "x, y = train_data(n_examples, m, c)\n",
    "plt.scatter(x,y)\n",
    "plt.xlabel('x')\n",
    "plt.ylabel('y')\n",
    "plt.title('Fig. 1 - training data')\n",
    "W = tf.Variable(np.random.randn()) # Valor inicial aleatório de weight(m)\n",
    "B = tf.Variable(np.random.randn()) # Valor inicial aleatório de bias(c)\n",
    "\n",
    "print(\"loss inicial: {:.3f}\".format(loss(x, y, W, B)))"
   ],
   "metadata": {
    "collapsed": false,
    "pycharm": {
     "name": "#%%\n"
    }
   }
  },
  {
   "cell_type": "markdown",
   "source": [
    "Ajustar *weight* e *bias*\n"
   ],
   "metadata": {
    "collapsed": false
   }
  },
  {
   "cell_type": "code",
   "execution_count": 20,
   "outputs": [
    {
     "name": "stdout",
     "output_type": "stream",
     "text": [
      "Loss no passo 0:  35.991173\n",
      "Loss no passo 10:  23.679577\n",
      "Loss no passo 20:  15.702220\n",
      "Loss no passo 30:  10.533242\n",
      "Loss no passo 40:  7.183961\n",
      "Loss no passo 50:  5.013761\n",
      "Loss no passo 60:  3.607550\n",
      "Loss no passo 70:  2.696376\n",
      "Loss no passo 80:  2.105965\n",
      "Loss no passo 90:  1.723396\n",
      "Loss no passo 100:  1.475503\n",
      "Loss no passo 110:  1.314874\n",
      "Loss no passo 120:  1.210789\n",
      "Loss no passo 130:  1.143344\n",
      "Loss no passo 140:  1.099640\n",
      "Loss no passo 150:  1.071321\n",
      "Loss no passo 160:  1.052971\n",
      "Loss no passo 170:  1.041080\n",
      "Loss no passo 180:  1.033374\n",
      "Loss no passo 190:  1.028381\n",
      "Loss no passo 200:  1.025146\n",
      "Loss no passo 210:  1.023049\n",
      "Loss no passo 220:  1.021690\n",
      "Loss no passo 230:  1.020810\n",
      "Loss no passo 240:  1.020239\n",
      "Loss no passo 250:  1.019869\n",
      "Loss no passo 260:  1.019630\n",
      "Loss no passo 270:  1.019475\n",
      "Loss no passo 280:  1.019374\n",
      "Loss no passo 290:  1.019309\n",
      "Loss no passo 300:  1.019266\n",
      "Loss no passo 310:  1.019239\n",
      "Loss no passo 320:  1.019221\n",
      "Loss no passo 330:  1.019210\n",
      "Loss no passo 340:  1.019202\n",
      "Loss no passo 350:  1.019197\n",
      "Loss no passo 360:  1.019194\n",
      "Loss no passo 370:  1.019192\n",
      "Loss no passo 380:  1.019191\n",
      "Loss no passo 390:  1.019190\n",
      "Loss no passo 400:  1.019190\n",
      "Loss no passo 410:  1.019189\n",
      "Loss no passo 420:  1.019189\n",
      "Loss no passo 430:  1.019189\n",
      "Loss no passo 440:  1.019189\n",
      "Loss no passo 450:  1.019189\n",
      "Loss no passo 460:  1.019189\n",
      "Loss no passo 470:  1.019189\n",
      "Loss no passo 480:  1.019189\n",
      "Loss no passo 490:  1.019189\n",
      "Loss no passo 500:  1.019189\n",
      "Loss no passo 510:  1.019189\n",
      "Loss no passo 520:  1.019189\n",
      "Loss no passo 530:  1.019189\n",
      "Loss no passo 540:  1.019189\n",
      "Loss no passo 550:  1.019189\n",
      "Loss no passo 560:  1.019189\n",
      "Loss no passo 570:  1.019189\n",
      "Loss no passo 580:  1.019189\n",
      "Loss no passo 590:  1.019189\n",
      "Loss no passo 600:  1.019189\n",
      "Loss no passo 610:  1.019189\n",
      "Loss no passo 620:  1.019189\n",
      "Loss no passo 630:  1.019189\n",
      "Loss no passo 640:  1.019189\n",
      "Loss no passo 650:  1.019189\n",
      "Loss no passo 660:  1.019189\n",
      "Loss no passo 670:  1.019189\n",
      "Loss no passo 680:  1.019189\n",
      "Loss no passo 690:  1.019189\n",
      "Loss no passo 700:  1.019189\n",
      "Loss no passo 710:  1.019189\n",
      "Loss no passo 720:  1.019189\n",
      "Loss no passo 730:  1.019189\n",
      "Loss no passo 740:  1.019189\n",
      "Loss no passo 750:  1.019189\n",
      "Loss no passo 760:  1.019189\n",
      "Loss no passo 770:  1.019189\n",
      "Loss no passo 780:  1.019189\n",
      "Loss no passo 790:  1.019189\n",
      "Loss no passo 800:  1.019189\n",
      "Loss no passo 810:  1.019189\n",
      "Loss no passo 820:  1.019189\n",
      "Loss no passo 830:  1.019189\n",
      "Loss no passo 840:  1.019189\n",
      "Loss no passo 850:  1.019189\n",
      "Loss no passo 860:  1.019189\n",
      "Loss no passo 870:  1.019189\n",
      "Loss no passo 880:  1.019189\n",
      "Loss no passo 890:  1.019189\n",
      "Loss no passo 900:  1.019189\n",
      "Loss no passo 910:  1.019189\n",
      "Loss no passo 920:  1.019189\n",
      "Loss no passo 930:  1.019189\n",
      "Loss no passo 940:  1.019189\n",
      "Loss no passo 950:  1.019189\n",
      "Loss no passo 960:  1.019189\n",
      "Loss no passo 970:  1.019189\n",
      "Loss no passo 980:  1.019189\n",
      "Loss no passo 990:  1.019189\n"
     ]
    }
   ],
   "source": [
    "for step in range(training_steps):\n",
    "    deltaW, deltaB = grad(x, y, W, B) # Gradientes em relação a weight e bias\n",
    "\n",
    "    change_W = deltaW * learning_rate\n",
    "    change_B = deltaB * learning_rate\n",
    "\n",
    "    W.assign_sub(change_W) #  Subtrai change_W de W\n",
    "    B.assign_sub(change_B) #  Idem para B\n",
    "\n",
    "    if step == 0 or step % display_step == 0:  # A cada 10 passos\n",
    "        print(\"Loss no passo {}:  {:.6f}\".format(step, loss(x, y, W, B)))"
   ],
   "metadata": {
    "collapsed": false,
    "pycharm": {
     "name": "#%%\n"
    }
   }
  },
  {
   "cell_type": "markdown",
   "source": [
    "Imprimindo gráfico final"
   ],
   "metadata": {
    "collapsed": false
   }
  },
  {
   "cell_type": "code",
   "execution_count": 24,
   "outputs": [
    {
     "name": "stdout",
     "output_type": "stream",
     "text": [
      "Loss final:  1.019189\n",
      "W = 6.0272979736328125, B = -5.009913444519043\n",
      "Compared with m = 6.000, c = -5.000  of the original line\n"
     ]
    },
    {
     "data": {
      "text/plain": "Text(0.5, 1.0, 'Figure 2: Line of Best Fit')"
     },
     "execution_count": 24,
     "metadata": {},
     "output_type": "execute_result"
    },
    {
     "data": {
      "text/plain": "<Figure size 432x288 with 1 Axes>",
      "image/png": "[encoded data removed]"
     },
     "metadata": {
      "needs_background": "light"
     },
     "output_type": "display_data"
    }
   ],
   "source": [
    "print(\"Loss final:  {:.6f}\".format(loss(x,y,W,B)))\n",
    "print(\"W = {}, B = {}\".format(W.numpy(), B.numpy()))\n",
    "print(\"Compared with m = {:.3f}, c = {:.3f}\".format(m, c),\" of the original line\")\n",
    "xs = np.linspace(-3, 4, 50)\n",
    "ys = W.numpy()*xs + B.numpy()\n",
    "plt.scatter(xs,ys, c='red')\n",
    "plt.xlabel(\"x\")\n",
    "plt.ylabel(\"y\")\n",
    "plt.title(\"Figure 2: Line of Best Fit\")\n"
   ],
   "metadata": {
    "collapsed": false,
    "pycharm": {
     "name": "#%%\n"
    }
   }
  }
 ],
 "metadata": {
  "kernelspec": {
   "display_name": "Python 3",
   "language": "python",
   "name": "python3"
  },
  "language_info": {
   "codemirror_mode": {
    "name": "ipython",
    "version": 3
   },
   "file_extension": ".py",
   "mimetype": "text/x-python",
   "name": "python",
   "nbconvert_exporter": "python",
   "pygments_lexer": "ipython3",
   "version": "3.7.4"
  }
 },
 "nbformat": 4,
 "nbformat_minor": 1
}