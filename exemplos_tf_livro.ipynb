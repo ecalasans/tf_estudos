{
 "cells": [
  {
   "cell_type": "markdown",
   "source": [
    "I# Exemplos com Tensor Flow#"
   ],
   "metadata": {
    "collapsed": false
   }
  },
  {
   "cell_type": "markdown",
   "source": [
    "Este notebook mostra exemplos de operações com tensores usando o TensorFlow"
   ],
   "metadata": {
    "collapsed": false,
    "pycharm": {
     "name": "#%% md\n"
    }
   }
  },
  {
   "cell_type": "code",
   "execution_count": 1,
   "outputs": [],
   "source": [
    "import tensorflow as tf\n",
    "import numpy as np"
   ],
   "metadata": {
    "collapsed": false,
    "pycharm": {
     "name": "#%%\n",
     "is_executing": false
    }
   }
  },
  {
   "cell_type": "markdown",
   "source": [
    "#### 1. Quadrado da Diferença ####"
   ],
   "metadata": {
    "collapsed": false
   }
  },
  {
   "cell_type": "code",
   "execution_count": 2,
   "outputs": [
    {
     "name": "stdout",
     "text": [
      "[16  4  0  4 16 36]\n"
     ],
     "output_type": "stream"
    }
   ],
   "source": [
    "x = [1,3,5,7,9,11]\n",
    "y = 5\n",
    "\n",
    "s = tf.math.squared_difference(x, y)\n",
    "print(s.numpy())"
   ],
   "metadata": {
    "collapsed": false,
    "pycharm": {
     "name": "#%%\n",
     "is_executing": false
    }
   }
  },
  {
   "cell_type": "markdown",
   "source": [
    "#### 2. Encontrando a média ####"
   ],
   "metadata": {
    "collapsed": false
   }
  },
  {
   "cell_type": "code",
   "execution_count": 3,
   "outputs": [
    {
     "name": "stdout",
     "text": [
      "Média geral = 4.75\n",
      "Média das colunas = [5.5 4. ]\n",
      "Média das linhas = [4.5 5. ]\n"
     ],
     "output_type": "stream"
    }
   ],
   "source": [
    "numbers = tf.constant([[4., 5.],[7., 3.]])\n",
    "\n",
    "media = tf.reduce_mean(numbers)\n",
    "print(\"Média geral = {}\".format(media))\n",
    "\n",
    "media = tf.reduce_mean(numbers, axis=0)\n",
    "print(\"Média das colunas = {}\".format(media))\n",
    "\n",
    "media = tf.reduce_mean(numbers, axis=1)\n",
    "print(\"Média das linhas = {}\".format(media))"
   ],
   "metadata": {
    "collapsed": false,
    "pycharm": {
     "name": "#%%\n",
     "is_executing": false
    }
   }
  },
  {
   "cell_type": "markdown",
   "source": [
    "#### 3.  Geração de Números Aleatórios ####\n",
    "\n",
    "*Distribuição Normal*"
   ],
   "metadata": {
    "collapsed": false
   }
  },
  {
   "cell_type": "code",
   "execution_count": 4,
   "outputs": [
    {
     "name": "stdout",
     "text": [
      "[[ 9.066454   8.557968 ]\n",
      " [ 8.299252  10.991663 ]\n",
      " [10.5043955  9.061411 ]]\n"
     ],
     "output_type": "stream"
    }
   ],
   "source": [
    "d_normal = tf.random.normal(shape=(3,2), mean=10, stddev=2)\n",
    "print(d_normal.numpy())"
   ],
   "metadata": {
    "collapsed": false,
    "pycharm": {
     "name": "#%%\n",
     "is_executing": false
    }
   }
  },
  {
   "cell_type": "markdown",
   "source": [
    "*Distribuição Uniforme*"
   ],
   "metadata": {
    "collapsed": false
   }
  },
  {
   "cell_type": "code",
   "execution_count": 12,
   "outputs": [
    {
     "name": "stdout",
     "text": [
      "[[3 3 9 6]\n",
      " [1 2 0 6]]\n"
     ],
     "output_type": "stream"
    }
   ],
   "source": [
    "d_unif = tf.random.uniform(shape=(2,4), minval=0, maxval=10, dtype=tf.int32, seed=None, name=None)\n",
    "print(d_unif.numpy())"
   ],
   "metadata": {
    "collapsed": false,
    "pycharm": {
     "name": "#%%\n",
     "is_executing": false
    }
   }
  },
  {
   "cell_type": "markdown",
   "source": [
    "*Encontrando índices do maior e do menor elemento em um tensor*"
   ],
   "metadata": {
    "collapsed": false
   }
  },
  {
   "cell_type": "code",
   "execution_count": 15,
   "outputs": [
    {
     "name": "stdout",
     "text": [
      "[  2  11   5  42   7  19  -6 -11  29]\n",
      "Índice do maior elemento = 3\n",
      "Maior elemento = 42\n",
      "[[  2  11   5]\n",
      " [ 42   7  19]\n",
      " [ -6 -11  29]]\n",
      "Índice do maior elemento nas linhas= [1 0 2]\n",
      "Índice do maior elemento nas colunas= [1 0 2]\n"
     ],
     "output_type": "stream"
    }
   ],
   "source": [
    "t5 = tf.constant([2, 11, 5, 42, 7, 19, -6, -11, 29])\n",
    "print(t5.numpy())\n",
    "\n",
    "i = tf.argmax(t5)\n",
    "print(\"Índice do maior elemento = {}\".format(i))\n",
    "print(\"Maior elemento = {}\".format(t5[i].numpy()))\n",
    "\n",
    "t6 = tf.reshape(t5, [3,3])\n",
    "print(t6.numpy())\n",
    "\n",
    "i = tf.argmax(t6, axis=0)\n",
    "print(\"Índice do maior elemento nas linhas= {}\".format(i))\n",
    "\n",
    "i = tf.argmax(t6, axis=1)\n",
    "print(\"Índice do maior elemento nas colunas= {}\".format(i))"
   ],
   "metadata": {
    "collapsed": false,
    "pycharm": {
     "name": "#%%\n",
     "is_executing": false
    }
   }
  },
  {
   "cell_type": "markdown",
   "source": [
    "*Salvando e restaurando tensores usando checkpoints*"
   ],
   "metadata": {
    "collapsed": false
   }
  },
  {
   "cell_type": "code",
   "execution_count": 17,
   "outputs": [
    {
     "name": "stdout",
     "text": [
      "[[ 1  3  5  7]\n",
      " [11 13 17 19]]\n",
      "[[0 0 0 0]\n",
      " [0 0 0 0]]\n",
      "[[ 1  3  5  7]\n",
      " [11 13 17 19]]\n"
     ],
     "output_type": "stream"
    }
   ],
   "source": [
    "v  = tf.Variable([[1,3,5,7],[11,13,17,19]])\n",
    "print(v.numpy())\n",
    "checkpoint = tf.train.Checkpoint(var=v)\n",
    "save_path = checkpoint.save('./vars')\n",
    "v.assign([[0,0,0,0], [0,0,0,0]])\n",
    "print(v.numpy())\n",
    "checkpoint.restore(save_path=save_path)\n",
    "print(v.numpy())\n"
   ],
   "metadata": {
    "collapsed": false,
    "pycharm": {
     "name": "#%%\n",
     "is_executing": false
    }
   }
  }
 ],
 "metadata": {
  "kernelspec": {
   "display_name": "Python 3",
   "language": "python",
   "name": "python3"
  },
  "language_info": {
   "codemirror_mode": {
    "name": "ipython",
    "version": 2
   },
   "file_extension": ".py",
   "mimetype": "text/x-python",
   "name": "python",
   "nbconvert_exporter": "python",
   "pygments_lexer": "ipython2",
   "version": "2.7.6"
  },
  "pycharm": {
   "stem_cell": {
    "cell_type": "raw",
    "source": [],
    "metadata": {
     "collapsed": false
    }
   }
  }
 },
 "nbformat": 4,
 "nbformat_minor": 0
}